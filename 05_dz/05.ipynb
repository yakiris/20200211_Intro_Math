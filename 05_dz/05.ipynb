{
 "cells": [
  {
   "cell_type": "code",
   "execution_count": null,
   "metadata": {},
   "outputs": [],
   "source": [
    "#5. Дополните код расчетом коэффициента корреляции x и y по формуле"
   ]
  },
  {
   "cell_type": "code",
   "execution_count": 1,
   "metadata": {},
   "outputs": [],
   "source": [
    "%matplotlib inline\n",
    "import numpy as np\n",
    "import matplotlib.pyplot as plt"
   ]
  },
  {
   "cell_type": "code",
   "execution_count": 24,
   "metadata": {},
   "outputs": [
    {
     "name": "stdout",
     "output_type": "stream",
     "text": [
      "0.6352821262698236 0.17040049456839454\n",
      "0.6352821262698236 0.1704004945683951\n"
     ]
    },
    {
     "name": "stderr",
     "output_type": "stream",
     "text": [
      "D:\\anaconda3\\lib\\site-packages\\ipykernel_launcher.py:14: FutureWarning: `rcond` parameter will change to the default of machine precision times ``max(M, N)`` where M and N are the input matrix dimensions.\n",
      "To use the future default and silence this warning we advise to pass `rcond=None`, to keep using the old, explicitly pass `rcond=-1`.\n",
      "  \n"
     ]
    },
    {
     "data": {
      "image/png": "[encoded data removed]",
      "text/plain": [
       "<Figure size 432x288 with 1 Axes>"
      ]
     },
     "metadata": {
      "needs_background": "light"
     },
     "output_type": "display_data"
    },
    {
     "name": "stdout",
     "output_type": "stream",
     "text": [
      "[[1.         0.86914943]\n",
      " [0.86914943 1.        ]]\n",
      "0.8691494284580106\n"
     ]
    }
   ],
   "source": [
    "n = 100\n",
    "r = 0.6\n",
    "x = np.random.rand(n)\n",
    "y = r*x + (1 - r)*np.random.rand(n)\n",
    "plt.plot(x, y, 'o')\n",
    "plt.xlabel('x')\n",
    "plt.ylabel('y')\n",
    "plt.grid(True)\n",
    "\n",
    "a = (np.sum(x)*np.sum(y) - n*np.sum(x*y))/(np.sum(x)*np.sum(x) - n*np.sum(x*x))\n",
    "b = (np.sum(y) - a*np.sum(x))/n\n",
    "\n",
    "A = np.vstack([x, np.ones(len(x))]).T\n",
    "a1, b1 = np.linalg.lstsq(A, y)[0]\n",
    "print(a, b)\n",
    "print(a1, b1)\n",
    "plt.plot([0, 1], [b, a + b])\n",
    "plt.show()\n",
    "c = np.corrcoef(x, y) \n",
    "print(c)\n",
    "\n",
    "x_bar = np.mean(x)\n",
    "y_bar = np.mean(y)\n",
    "top = np.sum((x - x_bar) * (y - y_bar))\n",
    "bot = np.sqrt(np.sum(np.power(x - x_bar, 2)) * np.sum(np.power(y - y_bar, 2)))\n",
    "print(top/bot)"
   ]
  },
  {
   "cell_type": "code",
   "execution_count": null,
   "metadata": {},
   "outputs": [],
   "source": []
  }
 ],
 "metadata": {
  "kernelspec": {
   "display_name": "Python 3",
   "language": "python",
   "name": "python3"
  },
  "language_info": {
   "codemirror_mode": {
    "name": "ipython",
    "version": 3
   },
   "file_extension": ".py",
   "mimetype": "text/x-python",
   "name": "python",
   "nbconvert_exporter": "python",
   "pygments_lexer": "ipython3",
   "version": "3.7.4"
  }
 },
 "nbformat": 4,
 "nbformat_minor": 2
}

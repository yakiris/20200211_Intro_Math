{
 "cells": [
  {
   "cell_type": "code",
   "execution_count": null,
   "metadata": {},
   "outputs": [],
   "source": [
    "#4. Из урока по комбинаторике повторите расчеты, сгенерировав возможные варианты перестановок\n",
    "#для других значений n и k"
   ]
  },
  {
   "cell_type": "code",
   "execution_count": 2,
   "metadata": {},
   "outputs": [],
   "source": [
    "import itertools"
   ]
  },
  {
   "cell_type": "code",
   "execution_count": 21,
   "metadata": {},
   "outputs": [
    {
     "name": "stdout",
     "output_type": "stream",
     "text": [
      "456\n",
      "457\n",
      "465\n",
      "467\n",
      "475\n",
      "476\n",
      "546\n",
      "547\n",
      "564\n",
      "567\n",
      "574\n",
      "576\n",
      "645\n",
      "647\n",
      "654\n",
      "657\n",
      "674\n",
      "675\n",
      "745\n",
      "746\n",
      "754\n",
      "756\n",
      "764\n",
      "765\n"
     ]
    }
   ],
   "source": [
    "for p in itertools.permutations(\"4567\", 3):\n",
    "    print(''.join(str(x) for x in p))"
   ]
  },
  {
   "cell_type": "code",
   "execution_count": 22,
   "metadata": {},
   "outputs": [
    {
     "name": "stdout",
     "output_type": "stream",
     "text": [
      "456\n",
      "454\n",
      "464\n",
      "564\n"
     ]
    }
   ],
   "source": [
    "for p in itertools.combinations(\"4564\",3):\n",
    "    print(''.join(p))"
   ]
  },
  {
   "cell_type": "code",
   "execution_count": 23,
   "metadata": {},
   "outputs": [
    {
     "name": "stdout",
     "output_type": "stream",
     "text": [
      "11\n",
      "15\n",
      "19\n",
      "51\n",
      "55\n",
      "59\n",
      "91\n",
      "95\n",
      "99\n"
     ]
    }
   ],
   "source": [
    "for p in itertools.product(\"159\",repeat=2):\n",
    "    print(''.join(p))   "
   ]
  },
  {
   "cell_type": "code",
   "execution_count": null,
   "metadata": {},
   "outputs": [],
   "source": []
  }
 ],
 "metadata": {
  "kernelspec": {
   "display_name": "Python 3",
   "language": "python",
   "name": "python3"
  },
  "language_info": {
   "codemirror_mode": {
    "name": "ipython",
    "version": 3
   },
   "file_extension": ".py",
   "mimetype": "text/x-python",
   "name": "python",
   "nbconvert_exporter": "python",
   "pygments_lexer": "ipython3",
   "version": "3.7.4"
  }
 },
 "nbformat": 4,
 "nbformat_minor": 2
}

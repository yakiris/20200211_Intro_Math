{
 "cells": [
  {
   "cell_type": "code",
   "execution_count": null,
   "metadata": {},
   "outputs": [],
   "source": [
    "#2.1. Напишите код, проверяющий любую из теорем сложения или умножения вероятности\n",
    "#на примере рулетки или подбрасывания монетки."
   ]
  },
  {
   "cell_type": "code",
   "execution_count": 4,
   "metadata": {},
   "outputs": [],
   "source": [
    "%matplotlib inline\n",
    "import numpy as np"
   ]
  },
  {
   "cell_type": "code",
   "execution_count": 5,
   "metadata": {},
   "outputs": [
    {
     "name": "stdout",
     "output_type": "stream",
     "text": [
      "\n",
      "не совпало\n",
      "\n",
      "решка, решка\n",
      "\n",
      "орел, орел\n",
      "\n",
      "орел, орел\n",
      "\n",
      "орел, орел\n",
      "\n",
      "не совпало\n",
      "\n",
      "не совпало\n",
      "\n",
      "не совпало\n",
      "\n",
      "не совпало\n",
      "\n",
      "орел, орел\n"
     ]
    }
   ],
   "source": [
    "for i in range(0, 10):\n",
    "    a = input()\n",
    "    x = np.random.uniform(0, 10)\n",
    "    y = np.random.uniform(0, 10)\n",
    "    if x<5 and y<5:\n",
    "        print(\"орел, орел\")\n",
    "    elif x>5 and y>5:\n",
    "        print(\"решка, решка\")\n",
    "    else:\n",
    "        print(\"не совпало\")    "
   ]
  },
  {
   "cell_type": "code",
   "execution_count": null,
   "metadata": {},
   "outputs": [],
   "source": [
    "#2.2. Сгенерируйте десять выборок случайных чисел х0, …, х9.\n",
    "#и постройте гистограмму распределения случайной суммы х0+х1+ …+ х9."
   ]
  },
  {
   "cell_type": "code",
   "execution_count": 6,
   "metadata": {},
   "outputs": [],
   "source": [
    "%matplotlib inline\n",
    "import numpy as np\n",
    "import matplotlib.pyplot as plt\n",
    "import matplotlib.mlab as mlab"
   ]
  },
  {
   "cell_type": "code",
   "execution_count": 7,
   "metadata": {},
   "outputs": [
    {
     "name": "stdout",
     "output_type": "stream",
     "text": [
      "[0.3269008722170965, 0.9821749803323818, 0.3929907282442301, 0.47764889889786294, 0.801766341727188, 0.16034312907617176, 0.9422682676757027, 0.9527013376934065, 0.23856911078031584, 0.9201284456612397]\n"
     ]
    }
   ],
   "source": [
    "N = []\n",
    "for i in range(0, 10):\n",
    "    N.append((np.random.uniform(0, 10))/10)\n",
    "print(N)"
   ]
  },
  {
   "cell_type": "code",
   "execution_count": 8,
   "metadata": {},
   "outputs": [
    {
     "data": {
      "text/plain": [
       "Text(0.5, 1.0, 'Histogram')"
      ]
     },
     "execution_count": 8,
     "metadata": {},
     "output_type": "execute_result"
    },
    {
     "data": {
      "image/png": "[encoded data removed]",
      "text/plain": [
       "<Figure size 432x288 with 1 Axes>"
      ]
     },
     "metadata": {
      "needs_background": "light"
     },
     "output_type": "display_data"
    }
   ],
   "source": [
    "num_bins = 5\n",
    "n, bins, patches = plt.hist(N, num_bins)\n",
    "plt.title('Histogram')"
   ]
  },
  {
   "cell_type": "code",
   "execution_count": null,
   "metadata": {},
   "outputs": [],
   "source": []
  }
 ],
 "metadata": {
  "kernelspec": {
   "display_name": "Python 3",
   "language": "python",
   "name": "python3"
  },
  "language_info": {
   "codemirror_mode": {
    "name": "ipython",
    "version": 3
   },
   "file_extension": ".py",
   "mimetype": "text/x-python",
   "name": "python",
   "nbconvert_exporter": "python",
   "pygments_lexer": "ipython3",
   "version": "3.7.4"
  }
 },
 "nbformat": 4,
 "nbformat_minor": 2
}
